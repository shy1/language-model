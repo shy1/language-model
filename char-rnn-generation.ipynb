{
 "cells": [
  {
   "cell_type": "markdown",
   "metadata": {},
   "source": [
    "![](https://i.imgur.com/eBRPvWB.png)\n",
    "\n",
    "# Practical PyTorch: Generating Shakespeare with a Character-Level RNN\n",
    "\n",
    "[In the RNN classification tutorial](https://github.com/spro/practical-pytorch/blob/master/char-rnn-classification/char-rnn-classification.ipynb) we used a RNN to classify text one character at a time. This time we'll generate text one character at a time.\n",
   ]
  },
  {
   "cell_type": "markdown",
   "metadata": {},
   "source": [
    "# Prepare data\n",
    "\n",
    "The file we are using is a plain text file. We turn any potential unicode characters into plain ASCII by using the `unidecode` package (which you can install via `pip` or `conda`)."
   ]
  },
  {
   "cell_type": "code",
   "execution_count": 2,
   "metadata": {},
   "outputs": [
    {
     "name": "stdout",
     "output_type": "stream",
     "text": [
      "file_len = 1994682\n"
     ]
    }
   ],
   "source": [
    "import unidecode\n",
    "import string\n",
    "import random\n",
    "import re\n",
    "import helpers\n",
    "\n",
    "all_characters = string.printable\n",
    "n_characters = len(all_characters)\n",
    "\n",
    "file = unidecode.unidecode(open('/home/user01/dev/data/gutenberg/James Fenimore Cooper___The Chainbearer.txt').read())\n",
    "file = helpers.gut_clean(file)\n",
    "file_len = len(file)\n",
    "print('file_len =', file_len)"
   ]
  },
  {
   "cell_type": "markdown",
   "metadata": {},
   "source": [
    "To make inputs out of this big string of data, we will be splitting it into chunks."
   ]
  },
  {
   "cell_type": "code",
   "execution_count": 3,
   "metadata": {},
   "outputs": [
    {
     "name": "stdout",
     "output_type": "stream",
     "text": [
      "s, in a year. in the first place, i explained the reasons and manners of my early and unexpected return home, and the motives by which i had been governed in thus coming in disguise on my own property. then i said a little of my future intentio\n"
     ]
    }
   ],
   "source": [
    "chunk_len = 243\n",
    "\n",
    "def random_chunk():\n",
    "    start_index = random.randint(0, file_len - chunk_len)\n",
    "    end_index = start_index + chunk_len + 1\n",
    "    return file[start_index:end_index]\n",
    "\n",
    "print(random_chunk())"
   ]
  },
  {
   "cell_type": "code",
   "execution_count": 20,
   "metadata": {},
   "outputs": [],
   "source": [
    "import torch\n",
    "import torch.nn as nn\n",
    "from torch.autograd import Variable\n",
    "\n",
    "class RNN(nn.Module):\n",
    "    def __init__(self, input_size, hidden_size, output_size, n_layers=1):\n",
    "        super(RNN, self).__init__()\n",
    "        self.input_size = input_size\n",
    "        self.hidden_size = hidden_size\n",
    "        self.output_size = output_size\n",
    "        self.n_layers = n_layers\n",
    "        \n",
    "        self.encoder = nn.Embedding(input_size, hidden_size)\n",
    "        self.gru = nn.GRU(hidden_size, hidden_size, n_layers)\n",
    "        self.decoder = nn.Linear(hidden_size, output_size)\n",
    "    \n",
    "    def forward(self, input, hidden):\n",
    "        input = self.encoder(input.view(1, -1))\n",
    "        output, hidden = self.gru(input.view(1, 1, -1), hidden)\n",
    "        output = self.decoder(output.view(1, -1))\n",
    "        return output, hidden\n",
    "\n",
    "    def init_hidden(self):\n",
    "        return Variable(torch.zeros(self.n_layers, 1, self.hidden_size).cuda())"
   ]
  },
  {
   "cell_type": "markdown",
   "metadata": {},
   "source": [
    "# Inputs and Targets"
   ]
  },
  {
   "cell_type": "code",
   "execution_count": 21,
   "metadata": {},
   "outputs": [
    {
     "name": "stdout",
     "output_type": "stream",
     "text": [
      "Variable containing:\n",
      " 10\n",
      " 11\n",
      " 12\n",
      " 39\n",
      " 40\n",
      " 41\n",
      "[torch.cuda.LongTensor of size 6 (GPU 0)]\n",
      "\n"
     ]
    }
   ],
   "source": [
    "# Turn string into list of longs\n",
    "def char_tensor(string):\n",
    "    tensor = torch.zeros(len(string)).long()\n",
    "    for c in range(len(string)):\n",
    "        tensor[c] = all_characters.index(string[c])\n",
    "    return Variable(tensor.cuda())\n",
    "\n",
    "print(char_tensor('abcDEF'))"
   ]
  },
  {
   "cell_type": "code",
   "execution_count": 22,
   "metadata": {
    "collapsed": true
   },
   "outputs": [],
   "source": [
    "def random_training_set():    \n",
    "    chunk = random_chunk()\n",
    "    inp = char_tensor(chunk[:-1]).cuda()\n",
    "    target = char_tensor(chunk[1:]).cuda()\n",
    "    return inp, target"
   ]
  },
  {
   "cell_type": "markdown",
   "metadata": {},
   "source": [
    "# Evaluating\n",
    "\n",
    "To evaluate the network we will feed one character at a time, use the outputs of the network as a probability distribution for the next character, and repeat. To start generation we pass a priming string to start building up the hidden state, from which we then generate one character at a time."
   ]
  },
  {
   "cell_type": "code",
   "execution_count": 23,
   "metadata": {},
   "outputs": [],
   "source": [
    "def evaluate(prime_str='A', predict_len=100, temperature=0.8):\n",
    "    hidden = decoder.init_hidden()\n",
    "    prime_input = char_tensor(prime_str)\n",
    "    predicted = prime_str\n",
    "\n",
    "    # Use priming string to \"build up\" hidden state\n",
    "    for p in range(len(prime_str) - 1):\n",
    "        _, hidden = decoder(prime_input[p], hidden)\n",
    "    inp = prime_input[-1]\n",
    "    \n",
    "    for p in range(predict_len):\n",
    "        output, hidden = decoder(inp, hidden)\n",
    "        \n",
    "        # Sample from the network as a multinomial distribution\n",
    "        output_dist = output.data.view(-1).div(temperature).exp()\n",
    "        top_i = torch.multinomial(output_dist, 1)[0]\n",
    "        \n",
    "        # Add predicted character to string and use as next input\n",
    "        predicted_char = all_characters[top_i]\n",
    "        predicted += predicted_char\n",
    "        inp = char_tensor(predicted_char)\n",
    "\n",
    "    return predicted"
   ]
  },
  {
   "cell_type": "markdown",
   "metadata": {},
   "source": [
    "# Training"
   ]
  },
  {
   "cell_type": "markdown",
   "metadata": {},
   "source": [
    "A helper to print the amount of time passed:"
   ]
  },
  {
   "cell_type": "code",
   "execution_count": 24,
   "metadata": {
    "collapsed": true
   },
   "outputs": [],
   "source": [
    "import time, math\n",
    "\n",
    "def time_since(since):\n",
    "    s = time.time() - since\n",
    "    m = math.floor(s / 60)\n",
    "    s -= m * 60\n",
    "    return '%dm %ds' % (m, s)"
   ]
  },
  {
   "cell_type": "markdown",
   "metadata": {},
   "source": [
    "The main training function"
   ]
  },
  {
   "cell_type": "code",
   "execution_count": 25,
   "metadata": {
    "collapsed": true
   },
   "outputs": [],
   "source": [
    "def train(inp, target):\n",
    "    hidden = decoder.init_hidden()\n",
    "    decoder.zero_grad()\n",
    "    loss = 0\n",
    "\n",
    "    for c in range(chunk_len):\n",
    "        output, hidden = decoder(inp[c], hidden)\n",
    "        loss += criterion(output, target[c])\n",
    "\n",
    "    loss.backward()\n",
    "    decoder_optimizer.step()\n",
    "\n",
    "    return loss.data[0] / chunk_len"
   ]
  },
  {
   "cell_type": "markdown",
   "metadata": {},
   "source": [
    "Then we define the training parameters, instantiate the model, and start training:"
   ]
  },
  {
   "cell_type": "code",
   "execution_count": 26,
   "metadata": {
    "scrolled": false
   },
   "outputs": [
    {
     "name": "stdout",
     "output_type": "stream",
     "text": [
      "[0m 30s (100 5%) 2.1286]\n",
      "Whe my he to as bee by the twho butrat to the of ucu and palvorse wain ame the leing thertit seling a  \n",
      "\n",
      "[1m 1s (200 10%) 1.8592]\n",
      "Whene whis frranded beat saingse manitert wamiles, and the wite as is; frood---pitsely, as the of the  \n",
      "\n",
      "[1m 30s (300 15%) 1.9766]\n",
      "Whit not wemed sistationg as whis that bep, to tw' and the exist lontite hand this discay whered not m \n",
      "\n",
      "[2m 0s (400 20%) 1.8954]\n",
      "Whad of cepfulible the sposhal seal of redecened of juphent, as ins fows of the worted as which it gri \n",
      "\n",
      "[2m 31s (500 25%) 1.7413]\n",
      "Whan hear be evermes, of parent of the hard but now that coldinge the changer of the refeps, from that \n",
      "\n",
      "[3m 2s (600 30%) 1.8674]\n",
      "Whe, the trut maysed squation of holmose it he doorddersty thal ir to-morticandent-stay, in his of the \n",
      "\n",
      "[3m 34s (700 35%) 1.8451]\n",
      "Whered to coments of the had, gonsistileptated soment, alous exted the listaine in goner.\" i husese wa \n",
      "\n",
      "[4m 4s (800 40%) 1.6780]\n",
      "Wh, on were vorse?\" \"what geselver on of circices, and the brough the oberain is be siden to being lep \n",
      "\n",
      "[4m 35s (900 45%) 1.9229]\n",
      "Whan an conmantry of the apparred there a man much gover the rillded, by mandonaging to coved our of m \n",
      "\n",
      "[5m 5s (1000 50%) 1.8289]\n",
      "Wht a poority is and the ming after, for mamen, and a streing factence to the what i remport string ha \n",
      "\n",
      "[5m 35s (1100 55%) 1.5109]\n",
      "Wh giet of of as to passersters of theough thate for a somin' and and passing beaucted, when my acret. \n",
      "\n",
      "[6m 6s (1200 60%) 1.6965]\n",
      "Whand. beored of somed mant beave mooselven even was as to a for his in that do munt way has but on to \n",
      "\n",
      "[6m 37s (1300 65%) 1.7672]\n",
      "Whing than the clarty the did at i was not you riscessed to lade a cieted, jands sate on on of its not \n",
      "\n",
      "[7m 7s (1400 70%) 1.6543]\n",
      "Whalf having ent answerver mort say unseed world able of the deneried to in his contry, then the frime \n",
      "\n",
      "[7m 38s (1500 75%) 1.8299]\n",
      "Whily distance to mording it?\" \"old reach, and i soce is a ligs in at was be componsing its unclep int \n",
      "\n",
      "[8m 9s (1600 80%) 1.8419]\n",
      "Wh! the spreasioned, and t'e satter as about theye as made have the tater, an i was though terms.\" an  \n",
      "\n",
      "[8m 39s (1700 85%) 1.7010]\n",
      "Wher my deisure not my gating the geterm. a pere as thes you my my dich seect would affutake in minde, \n",
      "\n",
      "[9m 10s (1800 90%) 1.6419]\n",
      "Wh it the seet of the say at of yancy gerence on of herse of joll gield of the prapers, and the marrip \n",
      "\n",
      "[9m 40s (1900 95%) 1.6840]\n",
      "Whad noded of with which was surpose in for extries and him semen theiger in such a dengitured of the  \n",
      "\n",
      "[10m 11s (2000 100%) 1.7373]\n",
      "Wh; but littress of had had so that traver's of this plustir.\" \"but should gody begarly sufferecton, o \n",
      "\n"
     ]
    }
   ],
   "source": [
    "n_epochs = 2000\n",
    "print_every = 100\n",
    "plot_every = 10\n",
    "hidden_size = 243\n",
    "n_layers = 1\n",
    "lr = 0.005\n",
    "\n",
    "decoder = RNN(n_characters, hidden_size, n_characters, n_layers)\n",
    "decoder_optimizer = torch.optim.Adam(decoder.parameters(), lr=lr)\n",
    "decoder.cuda()\n",
    "criterion = nn.CrossEntropyLoss()\n",
    "\n",
    "start = time.time()\n",
    "all_losses = []\n",
    "loss_avg = 0\n",
    "\n",
    "for epoch in range(1, n_epochs + 1):\n",
    "    loss = train(*random_training_set())       \n",
    "    loss_avg += loss\n",
    "\n",
    "    if epoch % print_every == 0:\n",
    "        print('[%s (%d %d%%) %.4f]' % (time_since(start), epoch, epoch / n_epochs * 100, loss))\n",
    "        print(evaluate('Wh', 100), '\\n')\n",
    "\n",
    "    if epoch % plot_every == 0:\n",
    "        all_losses.append(loss_avg / plot_every)\n",
    "        loss_avg = 0"
   ]
  },
  {
   "cell_type": "markdown",
   "metadata": {},
   "source": [
    "# Plotting the Training Losses\n",
    "\n",
    "Plotting the historical loss from all_losses shows the network learning:"
   ]
  },
  {
   "cell_type": "code",
   "execution_count": 27,
   "metadata": {},
   "outputs": [
    {
     "data": {
      "text/plain": [
       "[<matplotlib.lines.Line2D at 0x7f8b51de61d0>]"
      ]
     },
     "execution_count": 27,
     "metadata": {},
     "output_type": "execute_result"
    },
    {
     "data": {
      "image/png": "iVBORw0KGgoAAAANSUhEUgAAAXcAAAD8CAYAAACMwORRAAAABHNCSVQICAgIfAhkiAAAAAlwSFlz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\nAABJRU5ErkJggg==\n",
      "text/plain": [
       "<matplotlib.figure.Figure at 0x7f8bcfe65940>"
      ]
     },
     "metadata": {},
     "output_type": "display_data"
    }
   ],
   "source": [
    "import matplotlib.pyplot as plt\n",
    "import matplotlib.ticker as ticker\n",
    "%matplotlib inline\n",
    "\n",
    "plt.figure()\n",
    "plt.plot(all_losses)"
   ]
  },
  {
   "cell_type": "markdown",
   "metadata": {},
   "source": [
    "# Evaluating at different \"temperatures\"\n",
    "\n",
    "In the `evaluate` function above, every time a prediction is made the outputs are divided by the \"temperature\" argument passed. Using a higher number makes all actions more equally likely, and thus gives us \"more random\" outputs. Using a lower value (less than 1) makes high probabilities contribute more. As we turn the temperature towards zero we are choosing only the most likely outputs.\n",
    "\n",
    "We can see the effects of this by adjusting the `temperature` argument."
   ]
  },
  {
   "cell_type": "code",
   "execution_count": 40,
   "metadata": {},
   "outputs": [
    {
     "name": "stdout",
     "output_type": "stream",
     "text": [
      "in the first place, i explained the reasons and manners of my early and unexpected return home, and the motives by which i had been governed in thus coming in disguise on my own property. then i said a little of my future intention to but to as she had gre tex of this, i how crided the lesseoling. the had now had huse anout seen. there it. this half swell, befory, and the still of the pelant this hat so the squartain home. \"we\n"
     ]
    }
   ],
   "source": [
    "print(evaluate('in the first place, i explained the reasons and manners of my early and unexpected return home, and the motives by which i had been governed in thus coming in disguise on my own property. then i said a little of my future intentio', 200, temperature=0.8))"
   ]
  },
  {
   "cell_type": "markdown",
   "metadata": {},
   "source": [
    "Lower temperatures are less varied, choosing only the more probable outputs:"
   ]
  },
  {
   "cell_type": "code",
   "execution_count": 41,
   "metadata": {},
   "outputs": [
    {
     "name": "stdout",
     "output_type": "stream",
     "text": [
      "in the first place, i explained the reasons and manners of my early and unexpected return home, and the motives by which i had been governed in thus coming in disguise on my own property. then i said a little of my future intention of the some the so he so the so had the so he so the some the sole to the so the susquesures to the so her had be the solity had the some the sold had be to the soon the some the so the so the some \n"
     ]
    }
   ],
   "source": [
    "print(evaluate('in the first place, i explained the reasons and manners of my early and unexpected return home, and the motives by which i had been governed in thus coming in disguise on my own property. then i said a little of my future intentio', 200, temperature=0.2))"
   ]
  },
  {
   "cell_type": "markdown",
   "metadata": {},
   "source": [
    "Higher temperatures more varied, choosing less probable outputs:"
   ]
  },
  {
   "cell_type": "code",
   "execution_count": 39,
   "metadata": {},
   "outputs": [
    {
     "name": "stdout",
     "output_type": "stream",
     "text": [
      "in the first place, i explained the reasons and manners of my early and unexpected return home, and the motives by which i had been governed in thus coming in disguise on my own property. then i said a little of my future intentions, that but butch, that so he the one as great all of house the see so that male he to the lived hat the some the speith, and said, that of the tell sumons how of the has thain had dus of the stall h\n"
     ]
    }
   ],
   "source": [
    "print(evaluate('in the first place, i explained the reasons and manners of my early and unexpected return home, and the motives by which i had been governed in thus coming in disguise on my own property. then i said a little of my future intentio', 200, temperature=0.627))"
   ]
  },
  {
   "cell_type": "markdown",
   "metadata": {
    "collapsed": true
   },
   "source": [
    "# Exercises\n",
    "\n",
    "* Train with your own dataset, e.g.\n",
    "    * Text from another author\n",
    "    * Blog posts\n",
    "    * Code\n",
    "* Increase number of layers and network size to get better results"
   ]
  },
  {
   "cell_type": "markdown",
   "metadata": {},
   "source": [
    "**Next**: [Generating Names with a Conditional Character-Level RNN](https://github.com/spro/practical-pytorch/blob/master/conditional-char-rnn/conditional-char-rnn.ipynb)"
   ]
  }
 ],
 "metadata": {
  "anaconda-cloud": {},
  "kernelspec": {
   "display_name": "Python 3",
   "language": "python",
   "name": "python3"
  },
  "language_info": {
   "codemirror_mode": {
    "name": "ipython",
    "version": 3
   },
   "file_extension": ".py",
   "mimetype": "text/x-python",
   "name": "python",
   "nbconvert_exporter": "python",
   "pygments_lexer": "ipython3",
   "version": "3.5.4"
  }
 },
 "nbformat": 4,
 "nbformat_minor": 1
}
